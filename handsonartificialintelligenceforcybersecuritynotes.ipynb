{
  "nbformat": 4,
  "nbformat_minor": 0,
  "metadata": {
    "colab": {
      "name": "handsonartificialintelligenceforcybersecuritynotes.ipynb",
      "provenance": [],
      "authorship_tag": "ABX9TyOONOI37DyJH/umQd61ayz/",
      "include_colab_link": true
    },
    "kernelspec": {
      "name": "python3",
      "display_name": "Python 3"
    },
    "language_info": {
      "name": "python"
    }
  },
  "cells": [
    {
      "cell_type": "markdown",
      "metadata": {
        "id": "view-in-github",
        "colab_type": "text"
      },
      "source": [
        "<a href=\"https://colab.research.google.com/github/clearnandtrain/hands-on-artificial-intelligence-for-cybersecurity-notes/blob/main/handsonartificialintelligenceforcybersecuritynotes.ipynb\" target=\"_parent\"><img src=\"https://colab.research.google.com/assets/colab-badge.svg\" alt=\"Open In Colab\"/></a>"
      ]
    },
    {
      "cell_type": "markdown",
      "metadata": {
        "id": "KnSPmWuux3ws"
      },
      "source": [
        "# Artificial Intelligence for Cybersecurity by, Allessandro Parisi"
      ]
    },
    {
      "cell_type": "markdown",
      "metadata": {
        "id": "re5gt4ocyToR"
      },
      "source": [
        "#### Some of the task related to the use of AI are as follows:\n",
        "- __Classification__: This is one of the main tasks in the framework of cybersecurity. It's used to properly identify types of similar attacks, such as different pieces of __malware__ belonging to the same family, that is, having common characteristices and behavior, even if their signatures are distinct (just think of __polymorphic malware__). In the same way, it is important to be able to adequately classify emails, distinguishing __spam__ from legitimate emails.\n",
        "- __Clustering__: Clustering is distinguished from classification by the ability to automatically identify the classes to which the samples belong when information about classes is not available in advance (this is a typical goal, as we have seen, of unsupervised learning). This taks is of fundamental importance in __malware analysis__ and __forensic analysis__.\n",
        "- __Predictive analysis__: By exploiting Neural Networks and Deep Learning, it is possible to identify threats as they occure. To this end, a __highly dynamic__ approach must be adopted, which allows algorithms to optimize their learning capabilities automatically.\n",
        "\n",
        "#### Possible uses of AI in cybersecurity are as follows:\n",
        "- __Network protection__: The use of ML allows the implemenation of highly sophisticated __intrustion detection systems__ (__IDS__), which are to be used in the network perimeter protection area.\n",
        "- __Endpoint protection__: Threats such as __ransomware__ can be adequately detected by adopting algorithms that learn the behaviors that are typical of these types of malware, thus overcomeing the __limitations of traditional antivirus__ software.\n",
        "- __Application security__: Some of the most insidious types of attacks on web applications include __Server Side Request Forgery__ (__SSRF__) attacks, __SQL injection__, __Cross-Site Scripting__ (__XSS__), and __Distributed Denial of Service__ (__DDoS__) attacks. These are all types of threats that can be adequately countered by using AI and ML tools and agorithms.\n",
        "- __Suspect user behavior__: Indentify attempts at __fraud__ or compromising applications by malicious users at the vary moment they occure is on of the emerging areas of application of deep learning."
      ]
    },
    {
      "cell_type": "code",
      "metadata": {
        "id": "ELL2jGRLf0yf"
      },
      "source": [
        "import numpy as np\n",
        "np_array = np.array([0,1,2,3])\n",
        "\n",
        "# Creating an array with ten elements initialized as zero\n",
        "np_zero_array = np.zeros(10)"
      ],
      "execution_count": 2,
      "outputs": []
    },
    {
      "cell_type": "code",
      "metadata": {
        "id": "gMXw1rzdkiDL",
        "outputId": "065dc184-9262-43d8-dab0-068d5406dda4",
        "colab": {
          "base_uri": "https://localhost:8080/"
        }
      },
      "source": [
        "np_array"
      ],
      "execution_count": 3,
      "outputs": [
        {
          "output_type": "execute_result",
          "data": {
            "text/plain": [
              "array([0, 1, 2, 3])"
            ]
          },
          "metadata": {},
          "execution_count": 3
        }
      ]
    },
    {
      "cell_type": "code",
      "metadata": {
        "id": "98sEkHPmklw5",
        "outputId": "66077a99-ac21-4a65-9649-be21ecc7dda6",
        "colab": {
          "base_uri": "https://localhost:8080/"
        }
      },
      "source": [
        "np_zero_array"
      ],
      "execution_count": 4,
      "outputs": [
        {
          "output_type": "execute_result",
          "data": {
            "text/plain": [
              "array([0., 0., 0., 0., 0., 0., 0., 0., 0., 0.])"
            ]
          },
          "metadata": {},
          "execution_count": 4
        }
      ]
    },
    {
      "cell_type": "code",
      "metadata": {
        "id": "SZQYEFzbkoS5"
      },
      "source": [
        "a = np.array([-8, 15])\n",
        "X = np.array([[1, 5],\n",
        "             \n",
        "             [3,4],\n",
        "\n",
        "             [2, 3]])\n",
        "y = np.dot(X, a)\n"
      ],
      "execution_count": 5,
      "outputs": []
    },
    {
      "cell_type": "code",
      "metadata": {
        "id": "OzgrISsUpyB0",
        "outputId": "20bdc071-a83c-466e-dd1c-7e9f111062a3",
        "colab": {
          "base_uri": "https://localhost:8080/"
        }
      },
      "source": [
        "y"
      ],
      "execution_count": 6,
      "outputs": [
        {
          "output_type": "execute_result",
          "data": {
            "text/plain": [
              "array([67, 36, 29])"
            ]
          },
          "metadata": {},
          "execution_count": 6
        }
      ]
    },
    {
      "cell_type": "code",
      "metadata": {
        "id": "mohNj6ZBpy2D"
      },
      "source": [
        ""
      ],
      "execution_count": null,
      "outputs": []
    }
  ]
}