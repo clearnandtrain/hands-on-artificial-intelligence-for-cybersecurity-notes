{
  "nbformat": 4,
  "nbformat_minor": 0,
  "metadata": {
    "colab": {
      "name": "handsonartificialintelligenceforcybersecuritynotes.ipynb",
      "provenance": [],
      "authorship_tag": "ABX9TyPvfPnkwlV+Y2jGCHBJAGho",
      "include_colab_link": true
    },
    "kernelspec": {
      "name": "python3",
      "display_name": "Python 3"
    },
    "language_info": {
      "name": "python"
    }
  },
  "cells": [
    {
      "cell_type": "markdown",
      "metadata": {
        "id": "view-in-github",
        "colab_type": "text"
      },
      "source": [
        "<a href=\"https://colab.research.google.com/github/clearnandtrain/hands-on-artificial-intelligence-for-cybersecurity-notes/blob/main/handsonartificialintelligenceforcybersecuritynotes.ipynb\" target=\"_parent\"><img src=\"https://colab.research.google.com/assets/colab-badge.svg\" alt=\"Open In Colab\"/></a>"
      ]
    },
    {
      "cell_type": "markdown",
      "metadata": {
        "id": "KnSPmWuux3ws"
      },
      "source": [
        "# Artificial Intelligence for Cybersecurity by, Allessandro Parisi"
      ]
    },
    {
      "cell_type": "code",
      "metadata": {
        "id": "re5gt4ocyToR"
      },
      "source": [
        ""
      ],
      "execution_count": null,
      "outputs": []
    }
  ]
}